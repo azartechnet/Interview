{
 "cells": [
  {
   "cell_type": "code",
   "execution_count": null,
   "metadata": {},
   "outputs": [],
   "source": [
    "#Python provide various options for developing graphical user interface(GUI)\n",
    "#Most important are listed below\n",
    "\n",
    "#Tkinter\n",
    "# --Tkinter is the Python interface to the Tk GUI toolkit shipped with Python.\n",
    "#wxPython\n",
    "# --This is an open source python interface for wxWindows\n",
    "#JPython\n",
    "# --Jpython is a Python port for Java which gives python script seamless access to Java class\n",
    "# libraries on the local machine"
   ]
  },
  {
   "cell_type": "code",
   "execution_count": null,
   "metadata": {},
   "outputs": [],
   "source": [
    "#Tkinter\n",
    "# --Tkinter is the Standard GUI library for Python.\n",
    "# --Python when combined with Tkinter provides a fast and easy way to Create GUI application.\n",
    "# --Tkinter provides a powerful object oriented interface to the Tk GUI toolkit\n",
    "# --import the Tkinter module\n",
    "# --create the GUI application main window\n",
    "# --Add one or more of the above mention widget to the GUI application\n",
    "# --Enter the main event loop to taken action againt each event triggered by the user."
   ]
  },
  {
   "cell_type": "code",
   "execution_count": null,
   "metadata": {},
   "outputs": [],
   "source": [
    "#pip install tkinter"
   ]
  },
  {
   "cell_type": "code",
   "execution_count": null,
   "metadata": {},
   "outputs": [],
   "source": [
    "import tkinter"
   ]
  },
  {
   "cell_type": "code",
   "execution_count": null,
   "metadata": {},
   "outputs": [],
   "source": [
    "t1=tkinter.Tk()\n",
    "#code to add widgets will go\n",
    "t1.mainloop()"
   ]
  },
  {
   "cell_type": "code",
   "execution_count": 5,
   "metadata": {},
   "outputs": [],
   "source": [
    "import tkinter #tkinter is an API\n",
    "from tkinter import messagebox\n",
    "#messagebox is an API to showinginfo()\n",
    "\n",
    "top=tkinter.Tk()\n",
    "\n",
    "def helloCall():#function hellocall user define function\n",
    "    messagebox.showinfo(\"HelloPython\",\"helloworld\")#showinfo()--is an pre define class\n",
    "    \n",
    "b=tkinter.Button(top,text=\"hello\",command=helloCall)#Button() is an pre define class\n",
    "\n",
    "b.pack()#pre define function\n",
    "\n",
    "top.mainloop()"
   ]
  },
  {
   "cell_type": "code",
   "execution_count": null,
   "metadata": {},
   "outputs": [],
   "source": [
    "#Button\n",
    "--Button widgets is used to display button in your application\n",
    "Syntax:\n",
    "=======\n",
    "w=Button(master,option=value...)\n",
    "master--This represent the parent window\n",
    "option--Here is the list of most commonly used option for this widgets"
   ]
  },
  {
   "cell_type": "code",
   "execution_count": null,
   "metadata": {},
   "outputs": [],
   "source": [
    "option:\n",
    "=======\n",
    "activebackground\n",
    "activeforeground\n",
    "bd\n",
    "bg\n",
    "fg\n",
    "font\n",
    "height\n",
    "image"
   ]
  },
  {
   "cell_type": "code",
   "execution_count": 6,
   "metadata": {},
   "outputs": [],
   "source": [
    "import tkinter\n",
    "from tkinter import messagebox"
   ]
  },
  {
   "cell_type": "code",
   "execution_count": 7,
   "metadata": {},
   "outputs": [],
   "source": [
    "top=tkinter.Tk()\n",
    "def sample():\n",
    "    messagebox.showinfo(\"hello\",\"helloworld\")\n",
    "B=tkinter.Button(top,text=\"Hello\",command=sample)\n",
    "B.pack()\n",
    "top.mainloop()"
   ]
  },
  {
   "cell_type": "code",
   "execution_count": null,
   "metadata": {},
   "outputs": [],
   "source": [
    "#Canvas\n",
    "--The Canvas widget is used to draw shapes,such as line,ovals,polygons and rectangles in your\n",
    "application."
   ]
  },
  {
   "cell_type": "code",
   "execution_count": null,
   "metadata": {},
   "outputs": [],
   "source": [
    "#Syntax:\n",
    "========\n",
    "W=Canvas(master,option=value..)"
   ]
  },
  {
   "cell_type": "code",
   "execution_count": null,
   "metadata": {},
   "outputs": [],
   "source": [
    "bd-Border\n",
    "bg--Normal Background height"
   ]
  },
  {
   "cell_type": "code",
   "execution_count": 12,
   "metadata": {},
   "outputs": [],
   "source": [
    "t1=tkinter.Tk()\n",
    "C=tkinter.Canvas(t1,bg=\"blue\",height=250,width=300)\n",
    "coord=10,50,240,210\n",
    "arc=C.create_arc(coord,start=0,extent=100,fill='red')\n",
    "C.pack()\n",
    "t1.mainloop()"
   ]
  },
  {
   "cell_type": "code",
   "execution_count": null,
   "metadata": {},
   "outputs": [],
   "source": [
    "#Checkbutton--widget is used to display a number of option to a user as toggle button.\n",
    "#The user can then select one or option by clicking the one or more option to each options."
   ]
  },
  {
   "cell_type": "code",
   "execution_count": 15,
   "metadata": {},
   "outputs": [],
   "source": [
    "\n",
    "import tkinter"
   ]
  },
  {
   "cell_type": "code",
   "execution_count": 20,
   "metadata": {},
   "outputs": [],
   "source": [
    "top=tkinter.Tk()\n",
    "checkVar1=IntVar()\n",
    "checkVar2=IntVar()\n",
    "c1=Checkbutton(top,text=\"MBA\",variable=checkVar1,onvalue=1,offvalue=0,height=5,width=20)\n",
    "c2=Checkbutton(top,text=\"MCA\",variable=checkVar2,onvalue=1,offvalue=0,height=10,width=20)\n",
    "\n",
    "c1.pack()\n",
    "c2.pack()\n",
    "top.mainloop()\n"
   ]
  },
  {
   "cell_type": "code",
   "execution_count": null,
   "metadata": {},
   "outputs": [],
   "source": [
    "#Entry"
   ]
  },
  {
   "cell_type": "code",
   "execution_count": 26,
   "metadata": {},
   "outputs": [],
   "source": [
    "#from tkinter import *\n",
    "import tkinter\n",
    "top=Tk()\n",
    "L1=Label(top,text=\"UserName\")\n",
    "L1.pack(side=LEFT)\n",
    "E1=Entry(top,bd=1)\n",
    "E1.pack(side=LEFT)\n",
    "top.mainloop()"
   ]
  },
  {
   "cell_type": "code",
   "execution_count": null,
   "metadata": {},
   "outputs": [],
   "source": [
    "#Frame--Widget is very importing for the process"
   ]
  },
  {
   "cell_type": "code",
   "execution_count": 27,
   "metadata": {},
   "outputs": [],
   "source": [
    "from tkinter import *"
   ]
  },
  {
   "cell_type": "code",
   "execution_count": 40,
   "metadata": {},
   "outputs": [],
   "source": [
    "root=Tk()\n",
    "frame=Frame(root)\n",
    "frame.pack()\n",
    "\n",
    "bottomframe=Frame(root)\n",
    "\n",
    "\n",
    "redbutton=Button(frame,text=\"Red\",fg=\"red\")\n",
    "\n",
    "\n",
    "\n",
    "greenbutton=Button(frame,text=\"green\",fg=\"green\")\n",
    "\n",
    "redbutton.pack(side=BOTTOM)\n",
    "greenbutton.pack(side=RIGHT)\n",
    "bottomframe.pack(side=BOTTOM)\n",
    "root.mainloop()"
   ]
  },
  {
   "cell_type": "code",
   "execution_count": null,
   "metadata": {},
   "outputs": [],
   "source": [
    "#ListBox\n",
    "#The listbox widget is used to display alist of items from which a user can select a number of items"
   ]
  },
  {
   "cell_type": "code",
   "execution_count": 41,
   "metadata": {},
   "outputs": [],
   "source": [
    "from tkinter import *\n",
    "import tkinter"
   ]
  },
  {
   "cell_type": "code",
   "execution_count": 46,
   "metadata": {},
   "outputs": [],
   "source": [
    "top=Tk()\n",
    "lb1=Listbox(top)\n",
    "lb1.insert(1,\"python\")\n",
    "lb1.insert(2,\"java\")\n",
    "lb1.insert(3,\"gui\")\n",
    "\n",
    "lb1.pack(side=LEFT)\n",
    "top.mainloop()"
   ]
  },
  {
   "cell_type": "code",
   "execution_count": null,
   "metadata": {},
   "outputs": [],
   "source": [
    "#Radiobutton\n",
    "#This widget implemented a multiple choice button which is a way to offer many possiable"
   ]
  },
  {
   "cell_type": "code",
   "execution_count": 58,
   "metadata": {},
   "outputs": [],
   "source": [
    "def sample():\n",
    "    selection=\"You selected  the option\"+str(var.get())\n",
    "    label.config(text=selection) \n",
    "root=Tk()\n",
    "var=IntVar()\n",
    "R1=Radiobutton(root,text=\"Option1\",variable=var,value=1,command=sample)\n",
    "R1.pack(anchor=W)\n",
    "R2=Radiobutton(root,text=\"Option2\",variable=var,value=2,command=sample)\n",
    "R2.pack(anchor=W)\n",
    "R3=Radiobutton(root,text=\"Option3\",variable=var,value=3,command=sample)\n",
    "R3.pack(anchor=W)\n",
    "\n",
    "label=Label(root)\n",
    "label.pack()  \n",
    "\n",
    "root.mainloop()"
   ]
  },
  {
   "cell_type": "code",
   "execution_count": null,
   "metadata": {},
   "outputs": [],
   "source": [
    "#https://stackoverflow.com/questions/41769497/python-tkinter-what-are-the-correct-values-for-the-anchor-option-in-the-message"
   ]
  }
 ],
 "metadata": {
  "kernelspec": {
   "display_name": "Python 3",
   "language": "python",
   "name": "python3"
  },
  "language_info": {
   "codemirror_mode": {
    "name": "ipython",
    "version": 3
   },
   "file_extension": ".py",
   "mimetype": "text/x-python",
   "name": "python",
   "nbconvert_exporter": "python",
   "pygments_lexer": "ipython3",
   "version": "3.8.5"
  }
 },
 "nbformat": 4,
 "nbformat_minor": 4
}
