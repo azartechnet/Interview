{
 "cells": [
  {
   "cell_type": "code",
   "execution_count": 1,
   "metadata": {},
   "outputs": [],
   "source": [
    "#ControlStatement"
   ]
  },
  {
   "cell_type": "code",
   "execution_count": 2,
   "metadata": {},
   "outputs": [],
   "source": [
    "# 1.Branching--Single time execution\n",
    "# 2.looping--Multiple time execution"
   ]
  },
  {
   "cell_type": "code",
   "execution_count": 3,
   "metadata": {},
   "outputs": [],
   "source": [
    "# 1.Branching\n",
    "#   -if stmt\n",
    "#   -if else stamt\n",
    "#   -Nested if elif\n",
    "#   -Elif ladder  "
   ]
  },
  {
   "cell_type": "code",
   "execution_count": 4,
   "metadata": {},
   "outputs": [],
   "source": [
    "# if(exp):\n",
    "#   //stmt"
   ]
  },
  {
   "cell_type": "code",
   "execution_count": 5,
   "metadata": {},
   "outputs": [],
   "source": [
    "# if(exp-1):\n",
    "#   //stmt\n",
    "# else:    \n",
    "#   //stmt"
   ]
  },
  {
   "cell_type": "code",
   "execution_count": 6,
   "metadata": {},
   "outputs": [],
   "source": [
    "# if(exp-1):\n",
    "#     if(exp-2):\n",
    "#         //stmt\n",
    "#     else:\n",
    "#         //stmt\n",
    "# else:\n",
    "#     //stmt"
   ]
  },
  {
   "cell_type": "code",
   "execution_count": 7,
   "metadata": {},
   "outputs": [],
   "source": [
    "# if(exp-1):\n",
    "#     //stmt\n",
    "# elif(exp-2):\n",
    "#     //stmt\n",
    "# elif(exp-3):\n",
    "#     //stmt\n",
    "# else:\n",
    "#     //stmt"
   ]
  },
  {
   "cell_type": "code",
   "execution_count": 8,
   "metadata": {},
   "outputs": [
    {
     "name": "stdout",
     "output_type": "stream",
     "text": [
      "Enter the value is::100\n",
      "num is 100\n"
     ]
    }
   ],
   "source": [
    "num=int(input(\"Enter the value is::\"))\n",
    "if(num==100):\n",
    "    print(\"num is 100\")"
   ]
  },
  {
   "cell_type": "code",
   "execution_count": 9,
   "metadata": {},
   "outputs": [
    {
     "name": "stdout",
     "output_type": "stream",
     "text": [
      "Enter the value is::10\n",
      "Even 10\n"
     ]
    }
   ],
   "source": [
    "n1=int(input(\"Enter the value is::\"))\n",
    "if(n1%2==0):\n",
    "    print(\"Even\",n1)\n",
    "else:\n",
    "    print(\"Odd\",n1)"
   ]
  },
  {
   "cell_type": "code",
   "execution_count": 11,
   "metadata": {},
   "outputs": [
    {
     "name": "stdout",
     "output_type": "stream",
     "text": [
      "Enter the value is::61\n",
      "Enter the value is::20000\n",
      "Your salary is:: 20500\n"
     ]
    }
   ],
   "source": [
    "age=int(input(\"Enter the value is::\"))\n",
    "if(age>=60):\n",
    "    sal=int(input(\"Enter the value is::\")) \n",
    "    if(sal>=20000):\n",
    "        b1=sal+500\n",
    "        print(\"Your salary is::\",b1)\n",
    "    else:\n",
    "        b1=sal+1000\n",
    "        print(\"Your salary is::\",b1)\n",
    "else:\n",
    "    print(\"Age is low\")"
   ]
  },
  {
   "cell_type": "code",
   "execution_count": 19,
   "metadata": {},
   "outputs": [
    {
     "name": "stdout",
     "output_type": "stream",
     "text": [
      "Enter the m1 value is::200\n",
      "Enter the m2 value is::200\n",
      "Enter the m3 value is::0\n",
      "Grade-c\n"
     ]
    }
   ],
   "source": [
    "m1=int(input(\"Enter the m1 value is::\"))\n",
    "m2=int(input(\"Enter the m2 value is::\"))\n",
    "m3=int(input(\"Enter the m3 value is::\"))\n",
    "tot=m1+m2+m3\n",
    "if((tot>=900 or tot>=800)):\n",
    "    print(\"Grade-A\")\n",
    "elif((tot>=700 or tot>=500)):\n",
    "    print(\"Grade-B\")\n",
    "elif((tot>=400 or tot>=300)):\n",
    "    print(\"Grade-c\")\n",
    "else:\n",
    "    print(\"Grade-D\")"
   ]
  },
  {
   "cell_type": "code",
   "execution_count": null,
   "metadata": {},
   "outputs": [],
   "source": [
    "#Looping\n",
    "# --Iteration Process\n",
    "# for loop\n",
    "# nested for loop\n",
    "# while loop\n",
    "\n",
    "# for variable in range(start,end,step):\n",
    "#     //code\n",
    "    "
   ]
  },
  {
   "cell_type": "code",
   "execution_count": null,
   "metadata": {},
   "outputs": [],
   "source": [
    "# for variable in range(start,end,step):\n",
    "#     for variable in range(start,end,step):\n",
    "#         //code"
   ]
  },
  {
   "cell_type": "code",
   "execution_count": null,
   "metadata": {},
   "outputs": [],
   "source": [
    "# inital value\n",
    "# while(cnd):\n",
    "#     //code\n",
    "#     //incr or drc"
   ]
  },
  {
   "cell_type": "code",
   "execution_count": 4,
   "metadata": {},
   "outputs": [
    {
     "name": "stdout",
     "output_type": "stream",
     "text": [
      "I value is:: 0\n",
      "I value is:: 1\n",
      "I value is:: 2\n",
      "I value is:: 3\n",
      "I value is:: 4\n"
     ]
    }
   ],
   "source": [
    "for i in range(5):\n",
    "    print(\"I value is::\",i)"
   ]
  },
  {
   "cell_type": "code",
   "execution_count": 5,
   "metadata": {},
   "outputs": [
    {
     "name": "stdout",
     "output_type": "stream",
     "text": [
      "I value is:: 1\n",
      "I value is:: 3\n",
      "I value is:: 5\n",
      "I value is:: 7\n",
      "I value is:: 9\n"
     ]
    }
   ],
   "source": [
    "for i in range(1,10,2):\n",
    "    print(\"I value is::\",i)"
   ]
  },
  {
   "cell_type": "code",
   "execution_count": 9,
   "metadata": {},
   "outputs": [
    {
     "name": "stdout",
     "output_type": "stream",
     "text": [
      "Enter the value is::10\n",
      "I value is:: 1\n",
      "I value is:: 2\n",
      "I value is:: 3\n",
      "I value is:: 4\n",
      "I value is:: 5\n",
      "I value is:: 6\n",
      "I value is:: 7\n",
      "I value is:: 8\n",
      "I value is:: 9\n",
      "I value is:: 10\n"
     ]
    }
   ],
   "source": [
    "n=int(input(\"Enter the value is::\"))\n",
    "for i in range(1,n+1,1):\n",
    "    print(\"I value is::\",i)\n",
    "    "
   ]
  },
  {
   "cell_type": "code",
   "execution_count": 11,
   "metadata": {},
   "outputs": [
    {
     "name": "stdout",
     "output_type": "stream",
     "text": [
      "Enter the value is::5\n",
      "Odd::\n",
      "1\n",
      "Even::\n",
      "2\n",
      "Odd::\n",
      "3\n",
      "Even::\n",
      "4\n",
      "Odd::\n",
      "5\n"
     ]
    }
   ],
   "source": [
    "n=int(input(\"Enter the value is::\"))\n",
    "for i in range(1,n+1,1):\n",
    "    if(i%2==0):\n",
    "        print(\"Even::\",i)\n",
    "    else:\n",
    "        print(\"Odd::\",i)"
   ]
  },
  {
   "cell_type": "code",
   "execution_count": 18,
   "metadata": {},
   "outputs": [
    {
     "name": "stdout",
     "output_type": "stream",
     "text": [
      "Enter the n value:2\n",
      "Enter the m value:2\n",
      "I value: 0 J value: 0\n",
      "I value: 0 J value: 1\n",
      "I value: 1 J value: 0\n",
      "I value: 1 J value: 1\n"
     ]
    }
   ],
   "source": [
    "n=int(input(\"Enter the n value:\"))\n",
    "m=int(input(\"Enter the m value:\"))\n",
    "for i in range(0,n,1):\n",
    "    for j in range(0,m,1):\n",
    "        print(\"I value:\",i,\"J value:\",j)"
   ]
  },
  {
   "cell_type": "code",
   "execution_count": 22,
   "metadata": {},
   "outputs": [
    {
     "name": "stdout",
     "output_type": "stream",
     "text": [
      "i value is: 0\n",
      "i value is: 1\n",
      "i value is: 2\n"
     ]
    }
   ],
   "source": [
    "n=2\n",
    "for i in range(0,n+1,1):\n",
    "    print(\"i value is:\",i)"
   ]
  },
  {
   "cell_type": "code",
   "execution_count": 28,
   "metadata": {},
   "outputs": [
    {
     "name": "stdout",
     "output_type": "stream",
     "text": [
      "*****\n",
      "*****\n",
      "*****\n",
      "*****\n",
      "*****\n"
     ]
    }
   ],
   "source": [
    "for x in range(1,6):\n",
    "    for y in range(1,6):\n",
    "        print(\"*\",end=\"\")\n",
    "    print()    "
   ]
  },
  {
   "cell_type": "code",
   "execution_count": 7,
   "metadata": {},
   "outputs": [
    {
     "name": "stdout",
     "output_type": "stream",
     "text": [
      "Enter the value is:5\n",
      "Even 6\n",
      "Odd 3\n"
     ]
    }
   ],
   "source": [
    "s=0\n",
    "p=1\n",
    "n=int(input(\"Enter the value is:\"))\n",
    "for i in range(1,n,1):\n",
    "    if i%2==0:\n",
    "        s=s+i\n",
    "    else:\n",
    "        p=p*i\n",
    "print(\"Even\",s)\n",
    "print(\"Odd\",p)"
   ]
  },
  {
   "cell_type": "code",
   "execution_count": 8,
   "metadata": {},
   "outputs": [
    {
     "name": "stdout",
     "output_type": "stream",
     "text": [
      "*\n",
      "**\n",
      "***\n",
      "****\n",
      "*****\n"
     ]
    }
   ],
   "source": [
    "for x in range(1,6):\n",
    "    for y in range(1,x+1):\n",
    "        print(\"*\",end=\"\")\n",
    "    print()     "
   ]
  },
  {
   "cell_type": "code",
   "execution_count": 10,
   "metadata": {},
   "outputs": [
    {
     "name": "stdout",
     "output_type": "stream",
     "text": [
      "I value is:: 0\n",
      "I value is:: 1\n",
      "I value is:: 2\n",
      "I value is:: 3\n",
      "I value is:: 4\n",
      "I value is:: 5\n"
     ]
    }
   ],
   "source": [
    "i=0\n",
    "while(i<=5):\n",
    "    print(\"I value is::\",i)\n",
    "    i=i+1\n"
   ]
  },
  {
   "cell_type": "code",
   "execution_count": null,
   "metadata": {},
   "outputs": [],
   "source": [
    "ReverseNubmer:\n",
    "==============\n",
    "reverse=0; \n",
    "while (n != 0):\n",
    "      reverse = reverse * 10\n",
    "      reverse = reverse + n%10\n",
    "      n       = n//10\n",
    " ---------------------------------------\n",
    "ArmStrongNumber:\n",
    "===============\n",
    "s=0;\n",
    "while(n>0):\n",
    "    rem=n%10\n",
    "    s=s+rem*rem*rem\n",
    "    n=n//10\n",
    "if(n==s):\n",
    "//code\n",
    "else\n",
    "//code\n",
    "---------------------------------------------\n",
    "Sumofthedigits\n",
    "==============\n",
    "while (t != 0):\n",
    "      remainder = t % 10\n",
    "      sum       = sum + remainder\n",
    "      t         = t // 10"
   ]
  },
  {
   "cell_type": "code",
   "execution_count": 11,
   "metadata": {},
   "outputs": [
    {
     "name": "stdout",
     "output_type": "stream",
     "text": [
      "Enter the n value is::123\n",
      "Your Reverse Value is:: 321\n"
     ]
    }
   ],
   "source": [
    "reverse=0\n",
    "n=int(input(\"Enter the n value is::\"))\n",
    "while(n!=0):\n",
    "      reverse = reverse * 10\n",
    "      reverse = reverse + n%10\n",
    "      n       = n//10\n",
    "print(\"Your Reverse Value is::\",reverse)        "
   ]
  },
  {
   "cell_type": "code",
   "execution_count": 2,
   "metadata": {},
   "outputs": [
    {
     "name": "stdout",
     "output_type": "stream",
     "text": [
      "Enter the value is::202\n",
      "NotArmStrong 16\n"
     ]
    }
   ],
   "source": [
    "#ArmStrong\n",
    "\n",
    "n=int(input(\"Enter the value is::\"))\n",
    "s=0\n",
    "temp=n\n",
    "while(n!=0):\n",
    "    rem=n%10\n",
    "    s=s+rem*rem*rem\n",
    "    n=n//10\n",
    "if(s==temp):\n",
    "    print(\"ArmStrong\",s)\n",
    "else:\n",
    "    print(\"NotArmStrong\",s)\n",
    "    "
   ]
  },
  {
   "cell_type": "code",
   "execution_count": 12,
   "metadata": {},
   "outputs": [
    {
     "name": "stdout",
     "output_type": "stream",
     "text": [
      "0\n",
      "1\n",
      "2\n",
      "3\n",
      "False\n",
      "4\n"
     ]
    }
   ],
   "source": [
    "for i in range(5):\n",
    "    if(i==4):\n",
    "        print(\"False\")\n",
    "        #break\n",
    "    print(i)    \n",
    "    continue\n",
    "    #print(i)"
   ]
  },
  {
   "cell_type": "code",
   "execution_count": null,
   "metadata": {},
   "outputs": [],
   "source": [
    "#Function"
   ]
  },
  {
   "cell_type": "code",
   "execution_count": null,
   "metadata": {},
   "outputs": [],
   "source": [
    "# --A function is a Small programming unit inside a big programming construct that generates a \n",
    "# designated ouput.\n",
    "# --A method belongs to an object or object-oriented programming class that contains the method\n",
    "# --User define function\n",
    "# --Pre define function\n"
   ]
  },
  {
   "cell_type": "code",
   "execution_count": null,
   "metadata": {},
   "outputs": [],
   "source": [
    "#Function definition:\n",
    "#   --use def keyword\n",
    "#   --Any Arguments to the function\n",
    "\n",
    "# Syntax:\n",
    "# =======\n",
    "# def function_name(arguments):\n",
    "#     <statement>\n",
    "#     return value"
   ]
  },
  {
   "cell_type": "code",
   "execution_count": 14,
   "metadata": {},
   "outputs": [
    {
     "name": "stdout",
     "output_type": "stream",
     "text": [
      "Welcome to function-1\n"
     ]
    }
   ],
   "source": [
    "def get1():#function defination\n",
    "    print(\"Welcome to function-1\")\n",
    "get1()#function calling    "
   ]
  },
  {
   "cell_type": "code",
   "execution_count": 15,
   "metadata": {},
   "outputs": [
    {
     "name": "stdout",
     "output_type": "stream",
     "text": [
      "Welcome to function-1 mohamed\n"
     ]
    }
   ],
   "source": [
    "def get1(name):\n",
    "    print(\"Welcome to function-1\",name)\n",
    "get1(\"mohamed\")    "
   ]
  },
  {
   "cell_type": "code",
   "execution_count": 23,
   "metadata": {},
   "outputs": [
    {
     "name": "stdout",
     "output_type": "stream",
     "text": [
      "Enter the value is::azar\n",
      "Your name is:: azar\n",
      "Factnumber:: 6\n"
     ]
    }
   ],
   "source": [
    "def gettingInput():\n",
    "    name=input(\"Enter the value is::\")\n",
    "    print(\"Your name is::\",name)\n",
    "    \n",
    "def factorialNumber():\n",
    "    fact=1\n",
    "    n=3\n",
    "    for i in range(1,n+1,1):\n",
    "        fact=fact*i\n",
    "    print(\"Factnumber::\",fact)  \n",
    "    \n",
    "gettingInput()#function calling    \n",
    "factorialNumber()"
   ]
  },
  {
   "cell_type": "code",
   "execution_count": 27,
   "metadata": {},
   "outputs": [
    {
     "name": "stdout",
     "output_type": "stream",
     "text": [
      "20\n"
     ]
    }
   ],
   "source": [
    "def sample(a,b):\n",
    "    c=a*b\n",
    "    #return c\n",
    "    print(c)\n",
    "# x=20\n",
    "# y=2\n",
    "# print(\"Result is::\",sample(x,y))\n",
    "#print(\"Result is::\",sample(10,2))\n",
    "sample(10,2)"
   ]
  },
  {
   "cell_type": "code",
   "execution_count": 30,
   "metadata": {},
   "outputs": [
    {
     "name": "stdout",
     "output_type": "stream",
     "text": [
      "Name John\n",
      "age 28\n",
      "Name James\n",
      "age 50\n"
     ]
    }
   ],
   "source": [
    "#Function with default Argument:\n",
    "def info(name,age=50):\n",
    "    print(\"Name\",name)\n",
    "    print(\"age\",age)\n",
    "info(\"John\",age=28)\n",
    "info(\"James\")"
   ]
  },
  {
   "cell_type": "code",
   "execution_count": null,
   "metadata": {},
   "outputs": [],
   "source": [
    "#Pass by reference\n",
    "# --The value to the argument of the function are passed by reference\n",
    "# --The address of the variable is passed and then the operation is done on the value stored at the\n",
    "# address\n",
    "# #pass by value\n",
    "# --The value is directly passed as the value to the argument of the function\n"
   ]
  },
  {
   "cell_type": "code",
   "execution_count": 31,
   "metadata": {},
   "outputs": [
    {
     "name": "stdout",
     "output_type": "stream",
     "text": [
      "list before pass [12, 67, 90]\n",
      "list inside the function: [12, 67, 90, 23, 89]\n",
      "list outside the function [12, 67, 90, 23, 89]\n"
     ]
    }
   ],
   "source": [
    "def pass_ref(list1):\n",
    "    list1.extend([23,89])\n",
    "    print(\"list inside the function:\",list1)\n",
    "list1=[12,67,90]\n",
    "print(\"list before pass\",list1)\n",
    "pass_ref(list1)\n",
    "print(\"list outside the function\",list1)"
   ]
  },
  {
   "cell_type": "code",
   "execution_count": null,
   "metadata": {},
   "outputs": [],
   "source": [
    "#Local and Global Scope of variables"
   ]
  },
  {
   "cell_type": "code",
   "execution_count": null,
   "metadata": {},
   "outputs": [],
   "source": [
    "--The scope defines the access level for specifi variables"
   ]
  },
  {
   "cell_type": "code",
   "execution_count": null,
   "metadata": {},
   "outputs": [],
   "source": [
    "Two basics scope of variables in Python\n",
    "--Local variable\n",
    "--Global variable"
   ]
  },
  {
   "cell_type": "code",
   "execution_count": null,
   "metadata": {},
   "outputs": [],
   "source": [
    "--Local variable are define inside the python function"
   ]
  },
  {
   "cell_type": "code",
   "execution_count": null,
   "metadata": {},
   "outputs": [],
   "source": [
    "--Global variable are define outside the Python function"
   ]
  },
  {
   "cell_type": "code",
   "execution_count": 2,
   "metadata": {},
   "outputs": [
    {
     "name": "stdout",
     "output_type": "stream",
     "text": [
      "Inside the function 12\n",
      "This is function2\n",
      "Outside the fuction 30\n"
     ]
    }
   ],
   "source": [
    "def fun1():\n",
    "    a=12#local variable\n",
    "    print(\"Inside the function\",a)\n",
    "def fun2():\n",
    "    print(\"This is function2\")\n",
    "a=30#global variable\n",
    "fun1()\n",
    "fun2()\n",
    "print(\"Outside the fuction\",a)\n"
   ]
  }
 ],
 "metadata": {
  "kernelspec": {
   "display_name": "Python 3",
   "language": "python",
   "name": "python3"
  },
  "language_info": {
   "codemirror_mode": {
    "name": "ipython",
    "version": 3
   },
   "file_extension": ".py",
   "mimetype": "text/x-python",
   "name": "python",
   "nbconvert_exporter": "python",
   "pygments_lexer": "ipython3",
   "version": "3.8.5"
  }
 },
 "nbformat": 4,
 "nbformat_minor": 4
}
