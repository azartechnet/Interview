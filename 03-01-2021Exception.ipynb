{
 "cells": [
  {
   "cell_type": "code",
   "execution_count": 1,
   "metadata": {},
   "outputs": [],
   "source": [
    "#What is Exception?\n",
    "# --Exception is an does execute the normal flow of execution.\n",
    "# Syntax:\n",
    "# =======\n",
    "# try\n",
    "# {\n",
    "#     //code\n",
    "# }\n",
    "# except:\n",
    "# {\n",
    "#     //code\n",
    "# }\n",
    "\n",
    "# try\n",
    "# {\n",
    "#     //code\n",
    "# }\n",
    "# except IOError:\n",
    "# {\n",
    "#     //code\n",
    "# }"
   ]
  },
  {
   "cell_type": "code",
   "execution_count": 2,
   "metadata": {},
   "outputs": [],
   "source": [
    "# Pre define exception Class\n",
    "# ===========================\n",
    "# ArithmeticError\n",
    "# IndexError\n",
    "# InterruptedError\n",
    "# FileExistsError\n",
    "# FileNotFoundError\n",
    "# ValueError\n",
    "# Exception\n",
    "# IOError\n",
    "# NameError\n",
    "# KeyError\n",
    "# ZeroDivisionError"
   ]
  },
  {
   "cell_type": "code",
   "execution_count": 3,
   "metadata": {},
   "outputs": [
    {
     "name": "stdout",
     "output_type": "stream",
     "text": [
      "Enter the value is10\n",
      "Please check your input\n"
     ]
    }
   ],
   "source": [
    "try:\n",
    "    num=int(input(\"Enter the value is\"))\n",
    "    num/0\n",
    "    print(num)\n",
    "except:\n",
    "      print(\"Please check your input\")    "
   ]
  },
  {
   "cell_type": "code",
   "execution_count": 4,
   "metadata": {},
   "outputs": [
    {
     "name": "stdout",
     "output_type": "stream",
     "text": [
      "Enter the value is10\n",
      "Please check your input division by zero\n"
     ]
    }
   ],
   "source": [
    "try:\n",
    "    num=int(input(\"Enter the value is\"))\n",
    "    num/0\n",
    "    print(num)\n",
    "except ZeroDivisionError as e:\n",
    "      print(\"Please check your input\",e)  "
   ]
  },
  {
   "cell_type": "code",
   "execution_count": 7,
   "metadata": {},
   "outputs": [
    {
     "name": "stdout",
     "output_type": "stream",
     "text": [
      "Enter the value is::azar\n",
      "Please check your value-1\n"
     ]
    }
   ],
   "source": [
    "try:\n",
    "    n=int(input(\"Enter the value is::\"))\n",
    "    n/0\n",
    "    print(n)\n",
    "except ZeroDivisionError:\n",
    "    print(\"Please check your input\")\n",
    "except ValueError:\n",
    "    print(\"Please check your value-1\")"
   ]
  },
  {
   "cell_type": "code",
   "execution_count": 9,
   "metadata": {},
   "outputs": [
    {
     "name": "stdout",
     "output_type": "stream",
     "text": [
      "Error in divide\n",
      "10\n"
     ]
    }
   ],
   "source": [
    "def sum1(a,b):\n",
    "    try:\n",
    "        c=a+b\n",
    "        return c\n",
    "    except:\n",
    "        print(\"Error in sum1\")\n",
    "def divide(a,b):\n",
    "    try:\n",
    "        c=a/b\n",
    "        return c\n",
    "    except:\n",
    "        print(\"Error in divide\")\n",
    "divide(10,0)\n",
    "print(sum1(10,0))"
   ]
  },
  {
   "cell_type": "code",
   "execution_count": 11,
   "metadata": {},
   "outputs": [
    {
     "name": "stdout",
     "output_type": "stream",
     "text": [
      "Enter the number0\n",
      "Something wrg\n",
      "finally block\n"
     ]
    }
   ],
   "source": [
    "try:\n",
    "    num=int(input(\"Enter the number\"))\n",
    "    r=100/num\n",
    "except:\n",
    "    print(\"Something wrg\")\n",
    "else:\n",
    "    print(\"Result is::\",r)\n",
    "finally:\n",
    "    print(\"finally block\")"
   ]
  },
  {
   "cell_type": "code",
   "execution_count": null,
   "metadata": {},
   "outputs": [],
   "source": [
    "#User define exception\n",
    "# --Python allows us to define our own Exception\n",
    "# --Exception should be inherited from exception class"
   ]
  },
  {
   "cell_type": "code",
   "execution_count": 15,
   "metadata": {},
   "outputs": [
    {
     "name": "stdout",
     "output_type": "stream",
     "text": [
      "Enter the value is::2\n",
      "number is not 2\n"
     ]
    }
   ],
   "source": [
    "class MyException(Exception):\n",
    "    def __init__(self,value):\n",
    "        self.value=value\n",
    "    def __str__(self):\n",
    "        return(self.value)\n",
    "try:\n",
    "    num=int(input(\"Enter the value is::\"))\n",
    "    if num==\"2\":\n",
    "        raise MyException()\n",
    "    else:\n",
    "        print(\"number is not 2\")\n",
    "except:\n",
    "    print(\"MyExceptoin Occurred..\")"
   ]
  }
 ],
 "metadata": {
  "kernelspec": {
   "display_name": "Python 3",
   "language": "python",
   "name": "python3"
  },
  "language_info": {
   "codemirror_mode": {
    "name": "ipython",
    "version": 3
   },
   "file_extension": ".py",
   "mimetype": "text/x-python",
   "name": "python",
   "nbconvert_exporter": "python",
   "pygments_lexer": "ipython3",
   "version": "3.8.5"
  }
 },
 "nbformat": 4,
 "nbformat_minor": 4
}
