{
 "cells": [
  {
   "cell_type": "code",
   "execution_count": null,
   "metadata": {},
   "outputs": [],
   "source": [
    "#FileConcepts"
   ]
  },
  {
   "cell_type": "code",
   "execution_count": null,
   "metadata": {},
   "outputs": [],
   "source": [
    "#Data Persistence"
   ]
  },
  {
   "cell_type": "code",
   "execution_count": null,
   "metadata": {},
   "outputs": [],
   "source": [
    "--Persistence is the ability to store data as an object in a permanent loclation such as File or \n",
    "Database"
   ]
  },
  {
   "cell_type": "code",
   "execution_count": null,
   "metadata": {},
   "outputs": [],
   "source": [
    "--File is used to save the data permanently on a disk\n",
    "--File is a collection of data stored on a disk with a specific name and directory path\n",
    "\n",
    "File\n",
    "--Read Data\n",
    "--Write Data\n",
    "--Search Data"
   ]
  },
  {
   "cell_type": "code",
   "execution_count": null,
   "metadata": {},
   "outputs": [],
   "source": [
    "#Opening Files\n",
    "--File must be opened before reading or writing content\n",
    "\n",
    "Syntax:\n",
    "=======\n",
    "open(\"filename\")\n",
    "\n",
    "--If the open command is successful,OS return a file handle\n",
    "--If the file does not exists it fails with a trace back\n",
    "\n"
   ]
  },
  {
   "cell_type": "code",
   "execution_count": 3,
   "metadata": {},
   "outputs": [
    {
     "name": "stdout",
     "output_type": "stream",
     "text": [
      "<_io.TextIOWrapper name='f1.txt' mode='r' encoding='cp1252'>\n"
     ]
    }
   ],
   "source": [
    "fhand=open(\"f1.txt\")\n",
    "print(fhand)"
   ]
  },
  {
   "cell_type": "code",
   "execution_count": null,
   "metadata": {},
   "outputs": [],
   "source": [
    "#Text File"
   ]
  },
  {
   "cell_type": "code",
   "execution_count": 7,
   "metadata": {},
   "outputs": [
    {
     "name": "stdout",
     "output_type": "stream",
     "text": [
      "hai\n"
     ]
    }
   ],
   "source": [
    "fhand=open(\"f1.txt\",\"r\")\n",
    "arr=fhand.read()\n",
    "print(arr)"
   ]
  },
  {
   "cell_type": "code",
   "execution_count": null,
   "metadata": {},
   "outputs": [],
   "source": [
    "#Writing the data"
   ]
  },
  {
   "cell_type": "code",
   "execution_count": 6,
   "metadata": {},
   "outputs": [
    {
     "name": "stdout",
     "output_type": "stream",
     "text": [
      "Enter the value is::mohamedazar\n",
      "FileWrite..\n"
     ]
    }
   ],
   "source": [
    "fhand=open(\"f2.txt\",\"w\")\n",
    "arr=input(\"Enter the value is::\")\n",
    "fhand.write(arr)\n",
    "print(\"FileWrite..\")\n",
    "fhand.close()"
   ]
  },
  {
   "cell_type": "code",
   "execution_count": 10,
   "metadata": {},
   "outputs": [
    {
     "name": "stdout",
     "output_type": "stream",
     "text": [
      "mohamedazar\n",
      "\n",
      "raja\n",
      "\n",
      "abi\n",
      "\n",
      "mohan\n",
      "LineCount:: 4\n"
     ]
    }
   ],
   "source": [
    "fhand=open(\"f2.txt\",\"r\")\n",
    "count=0\n",
    "for line in fhand:\n",
    "    count=count+1\n",
    "    print(line)\n",
    "print(\"LineCount::\",count)\n"
   ]
  },
  {
   "cell_type": "code",
   "execution_count": 13,
   "metadata": {},
   "outputs": [
    {
     "name": "stdout",
     "output_type": "stream",
     "text": [
      "mo\n",
      "oh\n",
      "mhmda\n"
     ]
    }
   ],
   "source": [
    "fhand=open(\"f1.txt\")\n",
    "inp=fhand.read()\n",
    "print(inp[:2])\n",
    "print(inp[1:3])\n",
    "print(inp[::2])"
   ]
  },
  {
   "cell_type": "code",
   "execution_count": null,
   "metadata": {},
   "outputs": [],
   "source": [
    "#To Search data\n",
    "# --use if to specify the conditions\n",
    "# --Use starts with--to specify the exact match required"
   ]
  },
  {
   "cell_type": "code",
   "execution_count": 14,
   "metadata": {},
   "outputs": [
    {
     "name": "stdout",
     "output_type": "stream",
     "text": [
      "subject:maths\n",
      "\n",
      "subject:english\n",
      "\n"
     ]
    }
   ],
   "source": [
    "fhand=open(\"f3.txt\")\n",
    "for line in fhand:\n",
    "    if line.startswith(\"subject:\"):\n",
    "        print(line)"
   ]
  },
  {
   "cell_type": "code",
   "execution_count": null,
   "metadata": {},
   "outputs": [],
   "source": [
    "#find()--used to simulate a text editor search that finds lines wherever the search string is found"
   ]
  },
  {
   "cell_type": "code",
   "execution_count": 23,
   "metadata": {},
   "outputs": [
    {
     "name": "stdout",
     "output_type": "stream",
     "text": [
      "azar@gmail.com\n",
      "\n",
      "mohan@gmail.com\n",
      "\n",
      "mohamed@gmail.com\n",
      "\n"
     ]
    }
   ],
   "source": [
    "fhand=open(\"f4.txt\")\n",
    "for line in fhand:\n",
    "    if line.find('@gmail')==-1:\n",
    "        #continue\n",
    "        break\n",
    "    print(line)    "
   ]
  }
 ],
 "metadata": {
  "kernelspec": {
   "display_name": "Python 3",
   "language": "python",
   "name": "python3"
  },
  "language_info": {
   "codemirror_mode": {
    "name": "ipython",
    "version": 3
   },
   "file_extension": ".py",
   "mimetype": "text/x-python",
   "name": "python",
   "nbconvert_exporter": "python",
   "pygments_lexer": "ipython3",
   "version": "3.8.5"
  }
 },
 "nbformat": 4,
 "nbformat_minor": 4
}
